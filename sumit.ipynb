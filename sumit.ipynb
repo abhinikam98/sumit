{
 "cells": [
  {
   "cell_type": "code",
   "execution_count": 2,
   "id": "e919eebf",
   "metadata": {},
   "outputs": [
    {
     "name": "stdout",
     "output_type": "stream",
     "text": [
      "hey sumit\n"
     ]
    }
   ],
   "source": [
    "print(\"hey sumit\")"
   ]
  },
  {
   "cell_type": "code",
   "execution_count": 3,
   "id": "82a13f89",
   "metadata": {},
   "outputs": [
    {
     "name": "stdout",
     "output_type": "stream",
     "text": [
      "123\n"
     ]
    }
   ],
   "source": [
    "print(123)"
   ]
  },
  {
   "cell_type": "code",
   "execution_count": 4,
   "id": "e8ad64a1",
   "metadata": {},
   "outputs": [
    {
     "name": "stdout",
     "output_type": "stream",
     "text": [
      "fsgh \n",
      "gsu\n"
     ]
    }
   ],
   "source": [
    "print(\"fsgh \\ngsu\")"
   ]
  },
  {
   "cell_type": "code",
   "execution_count": 5,
   "id": "a02a8e25",
   "metadata": {},
   "outputs": [],
   "source": [
    "# print(\"fdbnhg\") "
   ]
  },
  {
   "cell_type": "code",
   "execution_count": 6,
   "id": "039d0782",
   "metadata": {},
   "outputs": [
    {
     "name": "stdout",
     "output_type": "stream",
     "text": [
      "gtrt\n"
     ]
    }
   ],
   "source": [
    "print(\"gtrt\")#hhjkj"
   ]
  },
  {
   "cell_type": "code",
   "execution_count": 14,
   "id": "db909865",
   "metadata": {},
   "outputs": [
    {
     "name": "stdout",
     "output_type": "stream",
     "text": [
      "hey \"i am a\" god \\8****boy\n"
     ]
    }
   ],
   "source": [
    "print(\"hey \\\"i am a\\\" god \\8****boy\")"
   ]
  },
  {
   "cell_type": "code",
   "execution_count": null,
   "id": "f6780c2e",
   "metadata": {},
   "outputs": [],
   "source": []
  }
 ],
 "metadata": {
  "kernelspec": {
   "display_name": "Python 3 (ipykernel)",
   "language": "python",
   "name": "python3"
  },
  "language_info": {
   "codemirror_mode": {
    "name": "ipython",
    "version": 3
   },
   "file_extension": ".py",
   "mimetype": "text/x-python",
   "name": "python",
   "nbconvert_exporter": "python",
   "pygments_lexer": "ipython3",
   "version": "3.11.4"
  }
 },
 "nbformat": 4,
 "nbformat_minor": 5
}
